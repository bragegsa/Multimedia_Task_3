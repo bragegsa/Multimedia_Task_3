{
 "cells": [
  {
   "cell_type": "code",
   "execution_count": null,
   "metadata": {},
   "outputs": [],
   "source": [
    "import numpy as np"
   ]
  },
  {
   "cell_type": "code",
   "execution_count": null,
   "metadata": {},
   "outputs": [],
   "source": [
    "# d)\n",
    "data1 = np.loadtxt(\"data1.txt\", skiprows=1, dtype=int)\n",
    "data2 = np.loadtxt(\"data2.txt\", skiprows=1, dtype=int)\n",
    "data3 = np.loadtxt(\"data3.txt\", skiprows=1, dtype=int)\n",
    "def entropyData(data):\n",
    "  ones = np.count_nonzero(data==1)\n",
    "  zeros = np.count_nonzero(data==0)\n",
    "  length = len(data)\n",
    "  P1 = ones/length\n",
    "  P0 = zeros/length\n",
    "  return -(P1*np.log2(P1)+P0*np.log2(P0))\n",
    "\n",
    "entropy1 = entropyData(data1)\n",
    "entropy2 = entropyData(data2)\n",
    "entropy3 = entropyData(data3)"
   ]
  },
  {
   "cell_type": "code",
   "execution_count": null,
   "metadata": {},
   "outputs": [],
   "source": [
    "print(entropy1,entropy2, entropy3)"
   ]
  },
  {
   "cell_type": "code",
   "execution_count": null,
   "metadata": {},
   "outputs": [],
   "source": []
  },
  {
   "cell_type": "code",
   "execution_count": null,
   "metadata": {},
   "outputs": [],
   "source": []
  }
 ],
 "metadata": {
  "kernelspec": {
   "display_name": "Python 3",
   "language": "python",
   "name": "python3"
  },
  "language_info": {
   "codemirror_mode": {
    "name": "ipython",
    "version": 3
   },
   "file_extension": ".py",
   "mimetype": "text/x-python",
   "name": "python",
   "nbconvert_exporter": "python",
   "pygments_lexer": "ipython3",
   "version": "3.8.5"
  }
 },
 "nbformat": 4,
 "nbformat_minor": 4
}
